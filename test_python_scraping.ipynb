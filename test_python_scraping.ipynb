{
  "nbformat": 4,
  "nbformat_minor": 0,
  "metadata": {
    "colab": {
      "name": "test_python_scraping.ipynb",
      "provenance": [],
      "authorship_tag": "ABX9TyNHzOLEaFydzqzxUI0z6TXh",
      "include_colab_link": true
    },
    "kernelspec": {
      "name": "python3",
      "display_name": "Python 3"
    },
    "language_info": {
      "name": "python"
    }
  },
  "cells": [
    {
      "cell_type": "markdown",
      "metadata": {
        "id": "view-in-github",
        "colab_type": "text"
      },
      "source": [
        "<a href=\"https://colab.research.google.com/github/bmd94/test_python_scraping/blob/main/test_python_scraping.ipynb\" target=\"_parent\"><img src=\"https://colab.research.google.com/assets/colab-badge.svg\" alt=\"Open In Colab\"/></a>"
      ]
    },
    {
      "cell_type": "markdown",
      "metadata": {
        "id": "g_jB7LFV6Xd-"
      },
      "source": [
        "# **First Part (python algorithm)**"
      ]
    },
    {
      "cell_type": "markdown",
      "metadata": {
        "id": "6ISX5G9a55fq"
      },
      "source": [
        "### **Exercise one**"
      ]
    },
    {
      "cell_type": "code",
      "metadata": {
        "colab": {
          "base_uri": "https://localhost:8080/"
        },
        "id": "1b3MFua_PjO-",
        "outputId": "8280ae8f-cb90-465a-ebde-0f3a814ba75b"
      },
      "source": [
        "def exercise_one():\n",
        "    for i in range(1,101):\n",
        "      if i % 3==0 and i %5==0:\n",
        "        i= 'TreeFive'\n",
        "      elif i % 3==0:\n",
        "        i='Tree'\n",
        "      elif i %5==0:\n",
        "        i='Five'\n",
        "      print(i)\n",
        "      \n",
        "exercise_one()  "
      ],
      "execution_count": null,
      "outputs": [
        {
          "output_type": "stream",
          "name": "stdout",
          "text": [
            "1\n",
            "2\n",
            "Tree\n",
            "4\n",
            "Five\n",
            "Tree\n",
            "7\n",
            "8\n",
            "Tree\n",
            "Five\n",
            "11\n",
            "Tree\n",
            "13\n",
            "14\n",
            "TreeFive\n",
            "16\n",
            "17\n",
            "Tree\n",
            "19\n",
            "Five\n",
            "Tree\n",
            "22\n",
            "23\n",
            "Tree\n",
            "Five\n",
            "26\n",
            "Tree\n",
            "28\n",
            "29\n",
            "TreeFive\n",
            "31\n",
            "32\n",
            "Tree\n",
            "34\n",
            "Five\n",
            "Tree\n",
            "37\n",
            "38\n",
            "Tree\n",
            "Five\n",
            "41\n",
            "Tree\n",
            "43\n",
            "44\n",
            "TreeFive\n",
            "46\n",
            "47\n",
            "Tree\n",
            "49\n",
            "Five\n",
            "Tree\n",
            "52\n",
            "53\n",
            "Tree\n",
            "Five\n",
            "56\n",
            "Tree\n",
            "58\n",
            "59\n",
            "TreeFive\n",
            "61\n",
            "62\n",
            "Tree\n",
            "64\n",
            "Five\n",
            "Tree\n",
            "67\n",
            "68\n",
            "Tree\n",
            "Five\n",
            "71\n",
            "Tree\n",
            "73\n",
            "74\n",
            "TreeFive\n",
            "76\n",
            "77\n",
            "Tree\n",
            "79\n",
            "Five\n",
            "Tree\n",
            "82\n",
            "83\n",
            "Tree\n",
            "Five\n",
            "86\n",
            "Tree\n",
            "88\n",
            "89\n",
            "TreeFive\n",
            "91\n",
            "92\n",
            "Tree\n",
            "94\n",
            "Five\n",
            "Tree\n",
            "97\n",
            "98\n",
            "Tree\n",
            "Five\n"
          ]
        }
      ]
    },
    {
      "cell_type": "markdown",
      "metadata": {
        "id": "906b-87P6CXo"
      },
      "source": [
        "### **Exercise two**"
      ]
    },
    {
      "cell_type": "code",
      "metadata": {
        "colab": {
          "base_uri": "https://localhost:8080/"
        },
        "id": "_UOdhS9ZPj-N",
        "outputId": "30501466-e3f5-4afb-ef6c-50038037b39a"
      },
      "source": [
        "#x = 263\n",
        "#  [2, 6, 3, 2x6, 6x3, 2x6x3]\n",
        "def exercise_two(x):\n",
        "  R = []\n",
        "  r=1\n",
        "  \n",
        "  x = str(x)\n",
        "  for i in x:\n",
        "    i = int(i)\n",
        "    R.append(i)\n",
        "  for j in range( len(R)-1):\n",
        "    R.append(R[j]*R[j+1]) \n",
        "  n = len(str(x))\n",
        "  for i in range(n):\n",
        "    r*=int(x[i])\n",
        "  R.append(r)\n",
        "  if len(R) == len(set(R)):\n",
        "    print( True)\n",
        "  else:\n",
        "    print( False)\n",
        "exercise_two(2532)"
      ],
      "execution_count": null,
      "outputs": [
        {
          "output_type": "stream",
          "name": "stdout",
          "text": [
            "False\n"
          ]
        }
      ]
    },
    {
      "cell_type": "markdown",
      "metadata": {
        "id": "z2K2mvi36GhB"
      },
      "source": [
        "## **Exercise tree**"
      ]
    },
    {
      "cell_type": "code",
      "metadata": {
        "colab": {
          "base_uri": "https://localhost:8080/"
        },
        "id": "XDU4SA0oWmX9",
        "outputId": "e4d7e824-96b3-4e86-bd9d-8f2429dc77d0"
      },
      "source": [
        "X=['4', '3', '-2']\n",
        "#X=453\n",
        "#X='54'\n",
        "#X=['nothing', 3, '8', 2, '1']\n",
        "def exercise_tree(x):\n",
        "  s=0\n",
        "  if type(X)==list:\n",
        "    if len(X)!=1:\n",
        "      for i in X:\n",
        "        if type(i)==int:\n",
        "          continue\n",
        "        else : \n",
        "          if i.lstrip(\"-\").isdigit():\n",
        "            s+=int(i)\n",
        "\n",
        "      print(s)\n",
        "    else: print(False)\n",
        "  else :print(False)\n",
        "exercise_tree(x)"
      ],
      "execution_count": null,
      "outputs": [
        {
          "output_type": "stream",
          "name": "stdout",
          "text": [
            "5\n"
          ]
        }
      ]
    },
    {
      "cell_type": "markdown",
      "metadata": {
        "id": "OYSi-cE96KEB"
      },
      "source": [
        "## **Exercise four**"
      ]
    },
    {
      "cell_type": "code",
      "metadata": {
        "colab": {
          "base_uri": "https://localhost:8080/"
        },
        "id": "AOmI_SRirSx0",
        "outputId": "fa9ae3e3-68d5-44e7-c746-8355d8a97791"
      },
      "source": [
        "#anagrams('abba', ['aabb', 'abcd', 'bbaa', 'dada']) => ['aabb', 'bbaa']\n",
        "\n",
        "#anagrams('racer', ['crazer', 'carer', 'racar', 'caers', 'racer']) => ['carer', 'racer']\n",
        "\n",
        "#anagrams('laser', ['lazing', 'lazy',  'lacer']) => []\n",
        "def anagrams(un,deux):\n",
        "  T=[]\n",
        "  for i in deux:\n",
        "    if set(un)==set(i):\n",
        "      T.append(i)\n",
        "  print(T)\n",
        "   \n",
        "\n",
        "anagrams('laser', ['lazing', 'lazy',  'lacer'])"
      ],
      "execution_count": null,
      "outputs": [
        {
          "output_type": "stream",
          "name": "stdout",
          "text": [
            "[]\n"
          ]
        }
      ]
    },
    {
      "cell_type": "markdown",
      "metadata": {
        "id": "1R4b6bOt6SV4"
      },
      "source": [
        "# **Second Part (python advanced)**"
      ]
    },
    {
      "cell_type": "markdown",
      "metadata": {
        "id": "5XrDFm8J6ok5"
      },
      "source": [
        "## **Exercise 1**"
      ]
    },
    {
      "cell_type": "code",
      "metadata": {
        "colab": {
          "base_uri": "https://localhost:8080/"
        },
        "id": "hjU3D8P-6R-t",
        "outputId": "727cdf1f-ecb9-4afe-c790-4dfba0868f1d"
      },
      "source": [
        "import random\n",
        "def random_gen():\n",
        "  i=0\n",
        "  while i!=15:\n",
        "    i=random.randrange(10,20)\n",
        "    print(i)\n",
        "random_gen()"
      ],
      "execution_count": null,
      "outputs": [
        {
          "output_type": "stream",
          "name": "stdout",
          "text": [
            "18\n",
            "12\n",
            "18\n",
            "13\n",
            "18\n",
            "10\n",
            "12\n",
            "19\n",
            "11\n",
            "13\n",
            "13\n",
            "16\n",
            "13\n",
            "12\n",
            "11\n",
            "17\n",
            "15\n"
          ]
        }
      ]
    },
    {
      "cell_type": "markdown",
      "metadata": {
        "id": "PCeP116J8sDx"
      },
      "source": [
        "## **Exercise 2**"
      ]
    },
    {
      "cell_type": "code",
      "metadata": {
        "colab": {
          "base_uri": "https://localhost:8080/"
        },
        "id": "bfw_hoUi6R9r",
        "outputId": "45ea6c3f-1cbe-4045-aa52-4870e0230463"
      },
      "source": [
        "def decorator_to_str(fun):\n",
        "    # todo exercise 2\n",
        "  def inner1(*args, **kwargs):\n",
        "          \n",
        "    \n",
        "        \n",
        "    \n",
        "    returned_value = fun(*args, **kwargs)\n",
        "    \n",
        "    return returned_value\n",
        "          \n",
        "  return inner1\n",
        "\n",
        "@decorator_to_str\n",
        "def add(a, b):\n",
        "    return a + b\n",
        "\n",
        "\n",
        "@decorator_to_str\n",
        "def get_info(d):\n",
        "    return d['info']\n",
        "a, b = 1, 2\n",
        "\n",
        "\n",
        "  \n",
        "# getting the value through return of the function\n",
        "print(\"Sum =\", add(a, b))"
      ],
      "execution_count": null,
      "outputs": [
        {
          "output_type": "stream",
          "name": "stdout",
          "text": [
            "Sum = 3\n"
          ]
        }
      ]
    },
    {
      "cell_type": "code",
      "metadata": {
        "colab": {
          "base_uri": "https://localhost:8080/"
        },
        "id": "7OnifTGDEgFe",
        "outputId": "8be9ed5f-1494-4582-8114-c9a85dcd5d1e"
      },
      "source": [
        "d=dict()\n",
        "d['a']=1\n",
        "d['b']=2\n",
        "d['info']='ouiii'\n",
        "get_info(d)"
      ],
      "execution_count": null,
      "outputs": [
        {
          "output_type": "execute_result",
          "data": {
            "application/vnd.google.colaboratory.intrinsic+json": {
              "type": "string"
            },
            "text/plain": [
              "'ouiii'"
            ]
          },
          "metadata": {},
          "execution_count": 13
        }
      ]
    },
    {
      "cell_type": "code",
      "metadata": {
        "id": "9_71ynkOJBvB"
      },
      "source": [
        ""
      ],
      "execution_count": null,
      "outputs": []
    }
  ]
}